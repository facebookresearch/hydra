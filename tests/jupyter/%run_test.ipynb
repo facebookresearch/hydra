{
 "cells": [
  {
   "cell_type": "code",
   "execution_count": 1,
   "metadata": {},
   "outputs": [],
   "source": [
    "%load_ext autoreload\n",
    "%autoreload 2"
   ]
  },
  {
   "cell_type": "code",
   "execution_count": 2,
   "metadata": {
    "pycharm": {
     "name": "#%%\n"
    }
   },
   "outputs": [
    {
     "name": "stdout",
     "output_type": "stream",
     "text": [
      "db:\n",
      "  driver: mysql\n",
      "  user: omry\n",
      "  pass: secret\n",
      "ui:\n",
      "  windows:\n",
      "    create_db: true\n",
      "    view: true\n",
      "schema:\n",
      "  database: school\n",
      "  tables:\n",
      "  - name: students\n",
      "    fields:\n",
      "    - name: string\n",
      "    - class: int\n",
      "  - name: exams\n",
      "    fields:\n",
      "    - profession: string\n",
      "    - time: data\n",
      "    - class: int\n",
      "\n"
     ]
    }
   ],
   "source": [
    "import tempfile\n",
    "with tempfile.TemporaryDirectory() as tmpdir:\n",
    "    %run ../../examples/tutorials/basic/your_first_hydra_app/6_composition/my_app.py hydra.run.dir=$tmpdir"
   ]
  }
 ],
 "metadata": {
  "kernelspec": {
   "display_name": "Python 3",
   "language": "python",
   "name": "python3"
  },
  "language_info": {
   "codemirror_mode": {
    "name": "ipython",
    "version": 3
   },
   "file_extension": ".py",
   "mimetype": "text/x-python",
   "name": "python",
   "nbconvert_exporter": "python",
   "pygments_lexer": "ipython3",
   "version": "3.8.2"
  }
 },
 "nbformat": 4,
 "nbformat_minor": 4
}