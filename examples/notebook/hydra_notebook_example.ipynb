{
 "cells": [
  {
   "cell_type": "code",
   "execution_count": 1,
   "metadata": {
    "scrolled": true
   },
   "outputs": [],
   "source": [
    "%load_ext autoreload\n",
    "%autoreload 2\n",
    "import hydra.experimental"
   ]
  },
  {
   "cell_type": "raw",
   "metadata": {},
   "source": [
    "This is what our config structure looks like:\n",
    "\n",
    "hydra/test_utils/configs/cloud_infra_example/\n",
    "├── application\n",
    "│   ├── bananas.yaml\n",
    "│   └── donkey.yaml\n",
    "├── cloud_provider\n",
    "│   ├── aws.yaml\n",
    "│   └── local.yaml\n",
    "├── config.yaml\n",
    "├── db\n",
    "│   ├── mysql.yaml\n",
    "│   └── sqlite.yaml\n",
    "└── environment\n",
    "    ├── production.yaml\n",
    "    └── testing.yaml"
   ]
  },
  {
   "cell_type": "code",
   "execution_count": 2,
   "metadata": {},
   "outputs": [],
   "source": [
    "hydra.experimental.initialize(\n",
    "    config_dir=\"../../hydra/test_utils/configs/cloud_infra_example\", \n",
    "    strict=True)"
   ]
  },
  {
   "cell_type": "code",
   "execution_count": 3,
   "metadata": {},
   "outputs": [
    {
     "name": "stdout",
     "output_type": "stream",
     "text": [
      "{}\n",
      "\n"
     ]
    }
   ],
   "source": [
    "# Compose empty config (not super useful)\n",
    "cfg=hydra.experimental.compose()\n",
    "print(cfg.pretty())"
   ]
  },
  {
   "cell_type": "code",
   "execution_count": 4,
   "metadata": {},
   "outputs": [
    {
     "name": "stdout",
     "output_type": "stream",
     "text": [
      "db:\n",
      "  driver: sqlite\n",
      "  file: test.db\n",
      "  pass: ???\n",
      "  user: ???\n",
      "\n"
     ]
    }
   ],
   "source": [
    "# Compose a config from scratch\n",
    "# Missing actual user and password as those are environment specific\n",
    "cfg=hydra.experimental.compose(overrides=[\"db=sqlite\"])\n",
    "print(cfg.pretty())"
   ]
  },
  {
   "cell_type": "code",
   "execution_count": 5,
   "metadata": {},
   "outputs": [
    {
     "name": "stdout",
     "output_type": "stream",
     "text": [
      "db:\n",
      "  driver: mysql\n",
      "  pass: r4Zn*jQ9JB1Rz2kfz\n",
      "  user: mysql\n",
      "donkey:\n",
      "  name: kong\n",
      "  rank: king\n",
      "\n"
     ]
    }
   ],
   "source": [
    "# compose application specific config (in this case the applicaiton is \"donkey\")\n",
    "cfg=hydra.experimental.compose(overrides= [\"db=mysql\", \"environment=production\", \"application=donkey\"])\n",
    "print(cfg.pretty())"
   ]
  },
  {
   "cell_type": "code",
   "execution_count": 6,
   "metadata": {},
   "outputs": [
    {
     "name": "stdout",
     "output_type": "stream",
     "text": [
      "cloud:\n",
      "  host: localhost\n",
      "  name: local\n",
      "  port: 9876\n",
      "db:\n",
      "  driver: sqlite\n",
      "  file: test.db\n",
      "  pass: test\n",
      "  user: test\n",
      "\n"
     ]
    }
   ],
   "source": [
    "# compose from config.yaml, this composes a bunch of defaults in:\n",
    "cfg=hydra.experimental.compose(config_name=\"config.yaml\")\n",
    "print(cfg.pretty())"
   ]
  },
  {
   "cell_type": "code",
   "execution_count": 7,
   "metadata": {},
   "outputs": [
    {
     "name": "stdout",
     "output_type": "stream",
     "text": [
      "cloud:\n",
      "  ami_id: MY_AMI_ID\n",
      "  api_key: ${env:AWS_API_KEY}\n",
      "  name: aws\n",
      "db:\n",
      "  driver: sqlite\n",
      "  file: test.db\n",
      "  pass: r4Zn*jQ9JB1Rz2kfz\n",
      "  user: mysql\n",
      "\n"
     ]
    }
   ],
   "source": [
    "# compose from config.yaml and override from the default testing\n",
    "# environment to production and cloud provider to aws.\n",
    "# Also override the ami id\n",
    "cfg=hydra.experimental.compose(\n",
    "    config_name=\"config.yaml\", \n",
    "    overrides=[\n",
    "        \"cloud_provider=aws\",\n",
    "        \"environment=production\",\n",
    "        \"cloud.ami_id=MY_AMI_ID\",\n",
    "    ]\n",
    ")\n",
    "print(cfg.pretty())"
   ]
  },
  {
   "cell_type": "code",
   "execution_count": null,
   "metadata": {},
   "outputs": [],
   "source": []
  }
 ],
 "metadata": {
  "kernelspec": {
   "display_name": "Python 3",
   "language": "python",
   "name": "python3"
  },
  "language_info": {
   "codemirror_mode": {
    "name": "ipython",
    "version": 3
   },
   "file_extension": ".py",
   "mimetype": "text/x-python",
   "name": "python",
   "nbconvert_exporter": "python",
   "pygments_lexer": "ipython3",
   "version": "3.7.5"
  },
  "pycharm": {
   "stem_cell": {
    "cell_type": "raw",
    "source": [],
    "metadata": {
     "collapsed": false
    }
   }
  }
 },
 "nbformat": 4,
 "nbformat_minor": 2
}